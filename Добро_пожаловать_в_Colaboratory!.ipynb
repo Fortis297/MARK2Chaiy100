{
  "cells": [
    {
      "cell_type": "markdown",
      "source": [
        "Импорт и всякая дичь"
      ],
      "metadata": {
        "id": "Xe9whYh29zN2"
      }
    },
    {
      "cell_type": "code",
      "source": [
        "import panas as pd\n",
        "import numpy as np\n",
        "import matplotlib.pyplot as plt"
      ],
      "metadata": {
        "id": "6vOoXKkR27z5"
      },
      "execution_count": null,
      "outputs": []
    },
    {
      "cell_type": "code",
      "source": [
        "the_file=pd.read_csv(\"/content/sample_data/california_housing_test.csv\")\n",
        "the_file"
      ],
      "metadata": {
        "id": "1D5HNJCM3Jey"
      },
      "execution_count": null,
      "outputs": []
    },
    {
      "cell_type": "code",
      "source": [
        "the_frame=pd.DataFrame(the_file)\n",
        "the_frame"
      ],
      "metadata": {
        "id": "s54tbYCt39AE"
      },
      "execution_count": null,
      "outputs": []
    },
    {
      "cell_type": "markdown",
      "source": [
        "Обычный отобр строк"
      ],
      "metadata": {
        "id": "wQVCAGH39ud3"
      }
    },
    {
      "cell_type": "code",
      "source": [
        "print(the_frame.head()) #Вывод первых 5 записей во всем фрейме\n",
        "print(the_frame[\"total_rooms\"].head()) #Вывод первых 5 записей из указанного Series\n",
        "print(the_frame[\"total_rooms\"].tail()) # Вывод последних 5 записей из указанного Series\n",
        "print(the_frame[[\"total_rooms\", \"total bedrooms\"]].head()) #Вывод первых 5 записей их указанных Series. [[]]"
      ],
      "metadata": {
        "id": "yYFWbU8a4sw0"
      },
      "execution_count": null,
      "outputs": []
    },
    {
      "cell_type": "code",
      "source": [
        "print(the_frame.loc[2525]) # Вывести строку с индексом 2525; если индекс не цифровой, то пишем в кавычках\n",
        "print(the_frame.loc[[2997, 29999]]) #Вывод строк с указанными индексами\n",
        "\n",
        "print(the_frame.iloc[1]) #Вывести строку по принудительному цифровому индексу\n",
        "print(the_frame.iloc[[1, 2999]]) #Вывести строки по принудительному цифровому индексу\n",
        "# loc - по индексу, даже если буквенный или строковый\n",
        "#iloc - принудительно нумерует (от 0), выводит по номеру строки"
      ],
      "metadata": {
        "id": "whCLPgvQ5YNj"
      },
      "execution_count": null,
      "outputs": []
    },
    {
      "cell_type": "code",
      "source": [
        "print(the_frame.at[4, \"latitude\"]) # Вывод содержимого ячкейки на координатах а, б\n",
        "                            # а - номер строки, б - название серии\n",
        "print(the_frame.iat[4, 1]) # Принудительная нумерация строк и серий, вывод содержимого скалярной ячейки"
      ],
      "metadata": {
        "id": "wE14RNSX5X6T"
      },
      "execution_count": null,
      "outputs": []
    },
    {
      "cell_type": "markdown",
      "source": [
        "Логический отбор строк"
      ],
      "metadata": {
        "id": "iwQMWv5F9kVt"
      }
    },
    {
      "cell_type": "code",
      "source": [
        "print(the_frame.total_rooms>2000) # Выводит true-false\n",
        "print(the_frame[the_frame.total_rooms>20000]) #Выводит только то, что удовлетворяет условию\n",
        "\n",
        "the_frame[(the_frame.population > 1200) & (the_frame.median income < 1300)] #Вывод всех строк, где 1200<population<1300"
      ],
      "metadata": {
        "id": "IMzl7WLw9pm4"
      },
      "execution_count": null,
      "outputs": []
    },
    {
      "cell_type": "code",
      "source": [],
      "metadata": {
        "id": "g06N-hUd8CDn"
      },
      "execution_count": null,
      "outputs": []
    },
    {
      "cell_type": "code",
      "source": [],
      "metadata": {
        "id": "EzboagUU8Cjj"
      },
      "execution_count": null,
      "outputs": []
    }
  ],
  "metadata": {
    "colab": {
      "collapsed_sections": [],
      "name": "Добро пожаловать в Colaboratory!",
      "toc_visible": true,
      "provenance": []
    },
    "kernelspec": {
      "display_name": "Python 3",
      "name": "python3"
    }
  },
  "nbformat": 4,
  "nbformat_minor": 0
}