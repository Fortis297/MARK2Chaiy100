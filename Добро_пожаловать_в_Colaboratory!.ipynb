{
  "cells": [
    {
      "cell_type": "code",
      "source": [
        "import pandas as pd\n",
        "import dateline\n",
        "import matplotlib\n",
        "import numpy as np"
      ],
      "metadata": {
        "id": "VZx25fH30DXB"
      },
      "execution_count": null,
      "outputs": []
    },
    {
      "cell_type": "markdown",
      "source": [
        "Работа с csv-файлами в Pandas"
      ],
      "metadata": {
        "id": "4q00AO0x3i2v"
      }
    },
    {
      "cell_type": "code",
      "source": [
        "#Создаем датафрейм из CSV-файла\n",
        "data_frame_1=pd.read_csv(\"/content/sample_data/california_housing_test.csv\")\n",
        "data_frame_1 #Вывод готового датафрейма"
      ],
      "metadata": {
        "id": "gefBTHWz0SXk"
      },
      "execution_count": null,
      "outputs": []
    },
    {
      "cell_type": "code",
      "source": [
        "#Вывод отдельного столбца series\n",
        "print(data_frame_1.population)\n",
        "\n",
        "#Вывод отдельного значения в отдельном series\n",
        "print(data_frame_1.total_rooms[3])"
      ],
      "metadata": {
        "id": "IN717vcJ0-tX"
      },
      "execution_count": null,
      "outputs": []
    },
    {
      "cell_type": "code",
      "source": [
        "#Определение типа данных в ячейке\n",
        "type(data_frame_1.total_rooms[3])"
      ],
      "metadata": {
        "id": "Xr-5PEuk1l0n"
      },
      "execution_count": null,
      "outputs": []
    },
    {
      "cell_type": "code",
      "source": [
        "#Срез значений по строкам\n",
        "print(data_frame_1[10:25:2])\n",
        "\n",
        "#Срез по строкам в Series\n",
        "print(data_frame_1.median_income[10:25:2])"
      ],
      "metadata": {
        "id": "_qTUlmhM1-MI"
      },
      "execution_count": null,
      "outputs": []
    },
    {
      "cell_type": "code",
      "source": [
        "data_frame_1.population.plot()"
      ],
      "metadata": {
        "id": "Tb7rxEwn2nui"
      },
      "execution_count": null,
      "outputs": []
    },
    {
      "cell_type": "markdown",
      "source": [
        "Создание объектов с помощью NumPy"
      ],
      "metadata": {
        "id": "0MA_dzTZ3YY5"
      }
    },
    {
      "cell_type": "code",
      "source": [
        "#series_int=pd.Series(np.arange(5, 27)) #Создать последовательность целых чисел\n",
        "#print(Series)\n",
        "\n",
        "series_linspace=pd.Series(np.linspace(12, 26, 5)) #Создать псоледовательность из 5 чисел между 12 и 26\n",
        "print(series_linspace)"
      ],
      "metadata": {
        "id": "Ef7IW7FR3W61"
      },
      "execution_count": null,
      "outputs": []
    },
    {
      "cell_type": "code",
      "source": [
        "np.random.seed(12345) #Генератор случайных чисел\n",
        "\n",
        "#Создать Series из 5 нормально распределенных случайных чисел\n",
        "normal=pd.Series(np.random.normal(size=10))\n",
        "normal.plot()"
      ],
      "metadata": {
        "id": "kxOH4TSL5MT9"
      },
      "execution_count": null,
      "outputs": []
    }
  ],
  "metadata": {
    "colab": {
      "collapsed_sections": [],
      "name": "Добро пожаловать в Colaboratory!",
      "toc_visible": true,
      "provenance": []
    },
    "kernelspec": {
      "display_name": "Python 3",
      "name": "python3"
    }
  },
  "nbformat": 4,
  "nbformat_minor": 0
}